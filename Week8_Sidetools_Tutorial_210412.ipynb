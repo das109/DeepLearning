{
 "cells": [
  {
   "cell_type": "code",
   "execution_count": null,
   "metadata": {},
   "outputs": [],
   "source": [
    "%%html\n",
    "<style>\n",
    "    table {margin-left: 0 !important; display: inline-block;}\n",
    "</style>"
   ]
  },
  {
   "cell_type": "markdown",
   "metadata": {
    "id": "NFZLbsaX8SH1"
   },
   "source": [
    "# Contents\n",
    "\n",
    "- Logging\n",
    "- Debugging\n",
    "- Visualizing"
   ]
  },
  {
   "cell_type": "markdown",
   "metadata": {},
   "source": [
    "---"
   ]
  },
  {
   "cell_type": "markdown",
   "metadata": {},
   "source": [
    "# Logging Tutorial"
   ]
  },
  {
   "cell_type": "markdown",
   "metadata": {},
   "source": [
    "Please refer to the official documentation _\"Logging HOWTO\"_ ([ENG](https://docs.python.org/3/howto/logging.html)/[KOR](https://docs.python.org/ko/3/howto/logging.html)) for further information"
   ]
  },
  {
   "cell_type": "markdown",
   "metadata": {},
   "source": [
    "Why log?  \n",
    "Simple. Logs allow us to trace issues and past activities"
   ]
  },
  {
   "cell_type": "markdown",
   "metadata": {},
   "source": [
    "Python provides a powerful and effective method of logging:\n",
    "```python\n",
    "import logging\n",
    "```"
   ]
  },
  {
   "cell_type": "markdown",
   "metadata": {},
   "source": [
    "Python logging library provides:\n",
    "- Controlling log information\n",
    "- Simultaneous stream and file logging\n",
    "- Automated log file creation"
   ]
  },
  {
   "cell_type": "code",
   "execution_count": null,
   "metadata": {},
   "outputs": [],
   "source": [
    "import logging"
   ]
  },
  {
   "cell_type": "markdown",
   "metadata": {},
   "source": [
    "### Logging Instance"
   ]
  },
  {
   "cell_type": "code",
   "execution_count": null,
   "metadata": {},
   "outputs": [],
   "source": [
    "logger = logging.getLogger(__name__)"
   ]
  },
  {
   "cell_type": "markdown",
   "metadata": {},
   "source": [
    "### Logging Level\n",
    "\n",
    "Please refer to the official documentation \"_When to use logging_\" ([ENG](https://docs.python.org/3/howto/logging.html#when-to-use-logging)/[KOR](https://docs.python.org/ko/3/howto/logging.html#when-to-use-logging)) for further information\n",
    "\n",
    "Level | Number | Usage | Hierarchy\n",
    "--- | :-: | --- | ---\n",
    "DEBUG | 10 | Detailed information, typically of interest only when diagnosing problems | Lowest (Print all logs)\n",
    "INFO | 20 | Confirmation that things are wokring as expected |\n",
    "WARNING | 30 | An indication that something unexpected happened, or indicative of some problem in the near future | Default\n",
    "ERROR | 40 | Due to a more serious problem, the software has not been able to perform some function |\n",
    "CRITICAL | 50 | A serious error, indicating that the program itself may be unsable to continue running | Highest\n",
    "\n",
    "_Remember: Logger will not print lower level logs_"
   ]
  },
  {
   "cell_type": "code",
   "execution_count": null,
   "metadata": {},
   "outputs": [],
   "source": [
    "print('DEBUG', logging.getLevelName('DEBUG'))\n",
    "print('INFO', logging.getLevelName('INFO'))\n",
    "print('WARNING', logging.getLevelName('WARNING'))\n",
    "print('ERROR', logging.getLevelName('ERROR'))\n",
    "print('CRITICAL', logging.getLevelName('CRITICAL'))"
   ]
  },
  {
   "cell_type": "code",
   "execution_count": null,
   "metadata": {},
   "outputs": [],
   "source": [
    "print('10', logging.getLevelName(10))\n",
    "print('20', logging.getLevelName(20))\n",
    "print('30', logging.getLevelName(30))\n",
    "print('40', logging.getLevelName(40))\n",
    "print('50', logging.getLevelName(50))"
   ]
  },
  {
   "cell_type": "code",
   "execution_count": null,
   "metadata": {},
   "outputs": [],
   "source": [
    "logger.setLevel(logging.INFO)"
   ]
  },
  {
   "cell_type": "markdown",
   "metadata": {},
   "source": [
    "### Logging Format\n",
    "\n",
    "Please refer to the official documentation \"_LogRecord attributes_\" ([ENG](https://docs.python.org/3/library/logging.html#logrecord-attributes)/[KOR](https://docs.python.org/ko/3/library/logging.html#logrecord-attributes)) for further information\n",
    "\n",
    "Format | Description\n",
    "--- | ---\n",
    "%(asctime)s | ASCII time at the moment LogRecord is created. Default form is <%Y-%m-%d %H:%M:%S,uuu>)\n",
    "%(filename)s | Name of the file containing the logging call\n",
    "%(levelname)s | Logging level\n",
    "%(lineno)d | Source line number where the logging call was issued\n",
    "%(message)s | Logged message\n",
    "%(name)s | Name of the logger"
   ]
  },
  {
   "cell_type": "code",
   "execution_count": null,
   "metadata": {},
   "outputs": [],
   "source": [
    "formatter = logging.Formatter(\n",
    "    fmt='%(asctime)s - %(name)s - %(levelname)s - %(message)s',\n",
    "    datefmt='%m-%d %H:%M:%S'\n",
    ")"
   ]
  },
  {
   "cell_type": "markdown",
   "metadata": {},
   "source": [
    "### Logging Handler"
   ]
  },
  {
   "cell_type": "code",
   "execution_count": null,
   "metadata": {},
   "outputs": [],
   "source": [
    "streamhandler = logging.StreamHandler()\n",
    "\n",
    "streamformatter = logging.Formatter('%(asctime)s - %(levelname)s - %(message)s')\n",
    "streamhandler.setFormatter(streamformatter)\n",
    "\n",
    "logger.addHandler(streamhandler)"
   ]
  },
  {
   "cell_type": "code",
   "execution_count": null,
   "metadata": {},
   "outputs": [],
   "source": [
    "from datetime import datetime\n",
    "\n",
    "fname = './Week8_{:%Y-%m-%d-%H%M}.log'.format(datetime.now())\n",
    "filehandler = logging.FileHandler(fname)\n",
    "\n",
    "fileformatter = logging.Formatter('[%(asctime)s] (%(filename)s: %(lineno)d) %(levelname)s - %(message)s')\n",
    "filehandler.setFormatter(fileformatter)\n",
    "\n",
    "logger.addHandler(filehandler)"
   ]
  },
  {
   "cell_type": "markdown",
   "metadata": {},
   "source": [
    "### Custom Logging Level"
   ]
  },
  {
   "cell_type": "code",
   "execution_count": null,
   "metadata": {},
   "outputs": [],
   "source": [
    "num = 15\n",
    "print(logging.getLevelName(num))"
   ]
  },
  {
   "cell_type": "code",
   "execution_count": null,
   "metadata": {},
   "outputs": [],
   "source": [
    "newlevel = 'DEBUG > L > INFO'\n",
    "logging.addLevelName(num, newlevel)\n",
    "\n",
    "print(logging.getLevelName(newlevel), logging.getLevelName(num))"
   ]
  },
  {
   "cell_type": "markdown",
   "metadata": {},
   "source": [
    "### Logging Practice"
   ]
  },
  {
   "cell_type": "code",
   "execution_count": null,
   "metadata": {},
   "outputs": [],
   "source": [
    "logger.debug('Hello, World!')"
   ]
  },
  {
   "cell_type": "code",
   "execution_count": null,
   "metadata": {},
   "outputs": [],
   "source": [
    "logger.info('Suppose things are working as expected?')"
   ]
  },
  {
   "cell_type": "code",
   "execution_count": null,
   "metadata": {},
   "outputs": [],
   "source": [
    "logger.warning('You should do something about this.')"
   ]
  },
  {
   "cell_type": "code",
   "execution_count": null,
   "metadata": {},
   "outputs": [],
   "source": [
    "logger.error('I told you so!')"
   ]
  },
  {
   "cell_type": "code",
   "execution_count": null,
   "metadata": {},
   "outputs": [],
   "source": [
    "logger.critical('You never listen!')"
   ]
  },
  {
   "cell_type": "code",
   "execution_count": null,
   "metadata": {},
   "outputs": [],
   "source": [
    "logger.debug('Bye, World!')"
   ]
  },
  {
   "cell_type": "markdown",
   "metadata": {},
   "source": [
    "### Summary"
   ]
  },
  {
   "cell_type": "code",
   "execution_count": null,
   "metadata": {},
   "outputs": [],
   "source": [
    "logger = logging.getLogger(__name__)\n",
    "logger.setLevel(logging.INFO)\n",
    "\n",
    "streamhandler = logging.StreamHandler()\n",
    "streamformatter = logging.Formatter('%(asctime)s - %(levelname)s - %(message)s')\n",
    "streamhandler.setFormatter(streamformatter)\n",
    "logger.addHandler(streamhandler)\n",
    "\n",
    "fname = './Week8_{:%Y-%m-%d-%H%M}.log'.format(datetime.now())\n",
    "filehandler = logging.FileHandler(fname)\n",
    "fileformatter = logging.Formatter('[%(asctime)s] (%(filename)s: %(lineno)d) %(levelname)s - %(message)s')\n",
    "filehandler.setFormatter(formatter)\n",
    "logger.addHandler(filehandler)"
   ]
  },
  {
   "cell_type": "markdown",
   "metadata": {},
   "source": [
    "---"
   ]
  },
  {
   "cell_type": "markdown",
   "metadata": {},
   "source": [
    "# Debugging Tutorial"
   ]
  },
  {
   "cell_type": "markdown",
   "metadata": {},
   "source": [
    "How does a debugger work?  \n",
    "Simply, it executes your code a line at a time(_single stepping_) from a breakpoint. It will create a debugging event once it finds a debug trap  \n",
    "But, we do not need to know everything about how a debugger works e.g. how it attachs to a process memory, how it loops, how it deals with exception, etc."
   ]
  },
  {
   "cell_type": "markdown",
   "metadata": {},
   "source": [
    "Should we always use a debugger?  \n",
    "Well, why not?"
   ]
  },
  {
   "cell_type": "markdown",
   "metadata": {},
   "source": [
    "## Debugger Command\n",
    "\n",
    "Please refer to the official documentation \"_Debugger Commands_\" ([ENG](https://docs.python.org/3/library/pdb.html#debugger-commands)/[KOR](https://docs.python.org/ko/3/library/pdb.html#debugger-commands)) for further information\n",
    "\n",
    "Command | Description\n",
    "--- | ---\n",
    "h(elp) | Print list of available commands\n",
    "w(here) | Print a stack trace\n",
    "n(ext) | Execute current line\n",
    "s(tep) | Execute current line and step in subroutine\n",
    "c(ontinue) | Continue execution until the next breakpoint\n",
    "b(reak) | Add a breakpoint at a certain line number\n",
    "l(ist) | Print source position\n",
    "p(rint) | Print variable\n",
    "q(uit) | End debugger"
   ]
  },
  {
   "cell_type": "code",
   "execution_count": null,
   "metadata": {
    "tags": []
   },
   "outputs": [],
   "source": [
    "import pdb; pdb.set_trace()"
   ]
  },
  {
   "cell_type": "markdown",
   "metadata": {},
   "source": [
    "## Debugging in Jupyter with PDB\n",
    "_Remember: PDB only behaves properly within a subroutine_"
   ]
  },
  {
   "cell_type": "code",
   "execution_count": null,
   "metadata": {},
   "outputs": [],
   "source": [
    "def foo(bar):\n",
    "    k = 2\n",
    "    import pdb; pdb.set_trace()\n",
    "    k = k + 1\n",
    "    g = 2\n",
    "    bar = g + k\n",
    "    return bar"
   ]
  },
  {
   "cell_type": "markdown",
   "metadata": {},
   "source": [
    "## Debugging in Jupyter (Magic Command)\n",
    "It works just like PDB except ..."
   ]
  },
  {
   "cell_type": "code",
   "execution_count": null,
   "metadata": {
    "tags": []
   },
   "outputs": [],
   "source": [
    "%%debug\n",
    "b = 'efg'\n",
    "def foo(bar):\n",
    "    k = 2\n",
    "    k = k + 1\n",
    "    g = 2\n",
    "    bar = g + k\n",
    "    return bar\n",
    "foo('test debug')"
   ]
  },
  {
   "cell_type": "code",
   "execution_count": null,
   "metadata": {},
   "outputs": [],
   "source": [
    "def foo():\n",
    "    print('Hello?')"
   ]
  },
  {
   "cell_type": "code",
   "execution_count": null,
   "metadata": {},
   "outputs": [],
   "source": [
    "%debug foo()"
   ]
  },
  {
   "cell_type": "markdown",
   "metadata": {},
   "source": [
    "This is just bad"
   ]
  },
  {
   "cell_type": "markdown",
   "metadata": {},
   "source": [
    "## Practical Way to Debug in Jupyter\n",
    "\n",
    "Remember that Jupyter runs by cell unit  \n",
    "So, instead of using debuggers, slice your code into different cells, print them, then debug them\n",
    "\n",
    "\\- or -\n",
    "\n",
    "You can use extensions:  \n",
    "[JupyterNotebook - PixieDust](https://pixiedust.github.io/pixiedust/index.html) or [JupyterLab - Debugger](https://jupyterlab.readthedocs.io/en/latest/user/debugger.html)"
   ]
  },
  {
   "cell_type": "markdown",
   "metadata": {},
   "source": [
    "---"
   ]
  },
  {
   "cell_type": "markdown",
   "metadata": {},
   "source": [
    "# Visualization"
   ]
  },
  {
   "cell_type": "markdown",
   "metadata": {},
   "source": [
    "Please refer to the official documentation [Seaborn](https://seaborn.pydata.org/) for further information"
   ]
  },
  {
   "cell_type": "markdown",
   "metadata": {},
   "source": [
    "MatplotLib &rarr; Seaborn &rarr; Plotly"
   ]
  },
  {
   "cell_type": "markdown",
   "metadata": {},
   "source": [
    "You would need to install by these commands: (for Anaconda users)\n",
    "\n",
    "```\n",
    "conda install seaborn\n",
    "```"
   ]
  },
  {
   "cell_type": "code",
   "execution_count": null,
   "metadata": {},
   "outputs": [],
   "source": [
    "%matplotlib inline\n",
    "\n",
    "import seaborn as sns\n",
    "import matplotlib.pyplot as plt"
   ]
  },
  {
   "cell_type": "code",
   "execution_count": null,
   "metadata": {},
   "outputs": [],
   "source": [
    "iris = sns.load_dataset('iris')"
   ]
  },
  {
   "cell_type": "code",
   "execution_count": null,
   "metadata": {},
   "outputs": [],
   "source": [
    "display(iris)"
   ]
  },
  {
   "cell_type": "code",
   "execution_count": null,
   "metadata": {},
   "outputs": [],
   "source": [
    "iris.describe()"
   ]
  },
  {
   "cell_type": "code",
   "execution_count": null,
   "metadata": {},
   "outputs": [],
   "source": [
    "sns.set()"
   ]
  },
  {
   "cell_type": "code",
   "execution_count": null,
   "metadata": {},
   "outputs": [],
   "source": [
    "sns.swarmplot(x='species', y ='petal_length', data=iris)"
   ]
  },
  {
   "cell_type": "code",
   "execution_count": null,
   "metadata": {},
   "outputs": [],
   "source": [
    "plt.rcParams['figure.figsize'] = (16, 8)"
   ]
  },
  {
   "cell_type": "code",
   "execution_count": null,
   "metadata": {},
   "outputs": [],
   "source": [
    "sns.swarmplot(x='species', y ='petal_length', data=iris)"
   ]
  },
  {
   "cell_type": "code",
   "execution_count": null,
   "metadata": {},
   "outputs": [],
   "source": [
    "tips = sns.load_dataset('tips')"
   ]
  },
  {
   "cell_type": "code",
   "execution_count": null,
   "metadata": {},
   "outputs": [],
   "source": [
    "display(tips)"
   ]
  },
  {
   "cell_type": "code",
   "execution_count": null,
   "metadata": {},
   "outputs": [],
   "source": [
    "tips.describe()"
   ]
  },
  {
   "cell_type": "code",
   "execution_count": null,
   "metadata": {},
   "outputs": [],
   "source": [
    "sns.regplot(x='total_bill', y='tip', data=tips)"
   ]
  },
  {
   "cell_type": "code",
   "execution_count": null,
   "metadata": {},
   "outputs": [],
   "source": [
    "sns.lmplot(x='total_bill', y='tip', hue='smoker', data=tips)"
   ]
  },
  {
   "cell_type": "code",
   "execution_count": null,
   "metadata": {},
   "outputs": [],
   "source": [
    "sns.lmplot(x=\"total_bill\", y=\"tip\", hue=\"smoker\", data=tips, markers=[\"o\", \"x\"], palette=\"Set1\")"
   ]
  },
  {
   "cell_type": "code",
   "execution_count": null,
   "metadata": {},
   "outputs": [],
   "source": [
    "sns.lmplot(x=\"total_bill\", y=\"tip\", hue=\"smoker\", col=\"time\", data=tips)"
   ]
  },
  {
   "cell_type": "code",
   "execution_count": null,
   "metadata": {},
   "outputs": [],
   "source": [
    "sns.lmplot(x=\"total_bill\", y=\"tip\", hue=\"smoker\", col=\"time\", row=\"sex\", data=tips)"
   ]
  },
  {
   "cell_type": "code",
   "execution_count": null,
   "metadata": {},
   "outputs": [],
   "source": []
  }
 ],
 "metadata": {
  "colab": {
   "collapsed_sections": [],
   "name": "SWE3032_week5_201007_solution_script.ipynb",
   "provenance": []
  },
  "kernelspec": {
   "display_name": "Python 3",
   "language": "python",
   "name": "python3"
  },
  "language_info": {
   "codemirror_mode": {
    "name": "ipython",
    "version": 3
   },
   "file_extension": ".py",
   "mimetype": "text/x-python",
   "name": "python",
   "nbconvert_exporter": "python",
   "pygments_lexer": "ipython3",
   "version": "3.7.10"
  }
 },
 "nbformat": 4,
 "nbformat_minor": 4
}

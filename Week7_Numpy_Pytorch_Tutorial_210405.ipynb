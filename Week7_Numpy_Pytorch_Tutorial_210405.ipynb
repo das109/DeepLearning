{
 "cells": [
  {
   "cell_type": "markdown",
   "metadata": {
    "id": "NFZLbsaX8SH1"
   },
   "source": [
    "# Contents\n",
    "\n",
    "- Colab\n",
    "    - Enable GPU (Oral)\n",
    "    - Hotkeys\n",
    "    - Terminal commands\n",
    "    - File I/O\n",
    "- Numpy\n",
    "    - Vectors & Matrices\n",
    "        - Creation\n",
    "        - Indexing & Assignment\n",
    "        - Operation\n",
    "        - Reshaping\n",
    "    - Comparison with python lists\n",
    "- PyTorch\n",
    "    - Tensors\n",
    "        - Creration\n",
    "        - Operation\n",
    "        - Reshaping"
   ]
  },
  {
   "cell_type": "markdown",
   "metadata": {
    "id": "jTi7s_Zx7q-5"
   },
   "source": [
    "# How to use Colab?\n"
   ]
  },
  {
   "cell_type": "markdown",
   "metadata": {
    "id": "hOYj4eVv78P3"
   },
   "source": [
    "Colaboratory is a free Jupyter notebook environment that requires no setup and runs entirely in the cloud.\n",
    "\n",
    "With Colaboratory you can write and execute code, save and share your analyses, and access powerful computing resources, all for free from your browser."
   ]
  },
  {
   "cell_type": "markdown",
   "metadata": {
    "id": "eJ0xmENaPCUV"
   },
   "source": [
    "Advantages\n",
    "\n",
    "- The best thing is that it is free!\n",
    "- It gives you costly GPUs and working envriornment, independent of what personal machine you are using.\n",
    "\n",
    "그래픽카드 드라이버, 적절한 쿠다버젼, 다양한 패키지 등등 많은 귀찮은 일들을 신경쓰지 않아도 된다는 것이다\n",
    "\n",
    "- It also runs on Google servers using virtual machines and you don’t need to install any packages, which sometimes create difficulty you are using different operating systems such as MAC, Windows, and Linux."
   ]
  },
  {
   "cell_type": "markdown",
   "metadata": {
    "id": "ZDDu2euWMNE7"
   },
   "source": [
    "# Enable GPU\n",
    "\n",
    "Runtime -> Change type of runtime -> set \"GPU\" as your hardware accelerator\n",
    "\n",
    "And there are some configuration you might want to set, open tools, and you will see setting here.\n",
    "\n",
    "it is just for fun, "
   ]
  },
  {
   "cell_type": "markdown",
   "metadata": {
    "id": "RDlm3r_yfzCW"
   },
   "source": []
  },
  {
   "cell_type": "markdown",
   "metadata": {
    "id": "dXMjrr-lidJq"
   },
   "source": [
    "### Hotkeys (change as you want)\n",
    "\n",
    "and similar to jupyter notebook, you have a lot of hotkeys here, but be aware that the key is different with what you have used in jupyter notebook."
   ]
  },
  {
   "cell_type": "markdown",
   "metadata": {
    "id": "lLlLU_Aoi8IK"
   },
   "source": [
    "| hotkey | action |\n",
    "| --- | --- |\n",
    "| ctrl + M H | Open hotkey configuration |\n",
    "| ctrl + O | Open note |\n",
    "| ctrl + S | Save note |\n",
    "| ctrl + F9 | Run all cells |\n",
    "| ctrl + shift + enter | Run cell |\n",
    "| shift + enter | Run cell and move on to the next |\n",
    "| alt + enter | Run cell and add a new one below |\n",
    "| ctrl + M I | Stop running execution |\n",
    "| ctrl + M A | Add new code cell above |\n",
    "| ctrl + M B | Add new code cell below |\n",
    "| ctrl + M D | Delete cell |\n",
    "| ctrl + M K | Move cell up |\n",
    "| ctrl + M J | Move cell down |\n",
    "| ctrl + M Y | Change to code cell |\n",
    "| ctrl + M M | Change to markdown cell |\n",
    "| ctrl + M Z | Undo last cell execution |\n",
    "| ctrl + H | Search |\n",
    "| ctrl + / | Comment out or undo |"
   ]
  },
  {
   "cell_type": "markdown",
   "metadata": {
    "id": "hVbAfCjZsf9D"
   },
   "source": [
    "### Terminal commands\n",
    "\n",
    "And next, we want to show you a bit of ~~ "
   ]
  },
  {
   "cell_type": "code",
   "execution_count": null,
   "metadata": {
    "id": "I-37xARkqKFA"
   },
   "outputs": [],
   "source": [
    "# Get OS info\n",
    "!cat /etc/issue.net"
   ]
  },
  {
   "cell_type": "markdown",
   "metadata": {
    "id": "0UxT72ijMxL-"
   },
   "source": [
    "let see how much memory you got"
   ]
  },
  {
   "cell_type": "code",
   "execution_count": null,
   "metadata": {
    "id": "h1oXSy-RvGkC"
   },
   "outputs": [],
   "source": [
    "# Get CPU info\n",
    "!cat /proc/cpuinfo | grep 'processor\\|model name\\|cpu cores'\n",
    "# Get memory info\n",
    "# !free -h\n",
    "# Get disk info\n",
    "# !df -h"
   ]
  },
  {
   "cell_type": "code",
   "execution_count": null,
   "metadata": {
    "id": "bnwLlgJ_gkAI"
   },
   "outputs": [],
   "source": [
    "# Get GPU info\n",
    "!nvidia-smi"
   ]
  },
  {
   "cell_type": "code",
   "execution_count": null,
   "metadata": {
    "id": "o40n39H4r4gR"
   },
   "outputs": [],
   "source": [
    "# Get python version\n",
    "!python --version"
   ]
  },
  {
   "cell_type": "code",
   "execution_count": null,
   "metadata": {
    "id": "_vfTvu3_-lb8"
   },
   "outputs": [],
   "source": [
    "# Get current directory\n",
    "!pwd\n",
    "# %cd /content/sample_data/ "
   ]
  },
  {
   "cell_type": "code",
   "execution_count": null,
   "metadata": {
    "id": "vnJhNcnO-7X0"
   },
   "outputs": [],
   "source": [
    "# Get files/folders list\n",
    "!ls -lah"
   ]
  },
  {
   "cell_type": "code",
   "execution_count": null,
   "metadata": {
    "id": "SanL9vJZOk5v"
   },
   "outputs": [],
   "source": [
    "# !mv README.md README2.md\n",
    "!cp README2.md README.md"
   ]
  },
  {
   "cell_type": "code",
   "execution_count": null,
   "metadata": {
    "id": "Llw0ZPAKoMZi"
   },
   "outputs": [],
   "source": [
    "!pip show torch"
   ]
  },
  {
   "cell_type": "markdown",
   "metadata": {
    "id": "bjcTMg3s7sM4"
   },
   "source": [
    "### File I/O\n",
    "\n",
    "if you use colab, sometime you want to use a data something you have in your computer. So you need to know how to upload it, and also download a result somehow. \n",
    "\n",
    "There are several ways to do that, you can simply click files from your computer, and drag it to the file explorer tab. or you can use code right here. \n"
   ]
  },
  {
   "cell_type": "code",
   "execution_count": null,
   "metadata": {
    "id": "ICWGHmOhuFUI"
   },
   "outputs": [],
   "source": [
    "# Upload file to Colab workspace\n",
    "# [NOTE] Uploaded files will be gone when runtime resets\n",
    "import os\n",
    "from google.colab import files\n",
    "\n",
    "uploaded = files.upload()\n",
    "\n",
    "for f in uploaded.keys():\n",
    "    print('User uploaded file \"{}\" at \"{}\"'.format(f, os.getcwd()))\n",
    "\n",
    "# Or simply open file tab then drag-and-drop"
   ]
  },
  {
   "cell_type": "code",
   "execution_count": null,
   "metadata": {
    "id": "AtBKyVEjAJu4"
   },
   "outputs": [],
   "source": [
    "# Download file from Colab workspace\n",
    "# [NOTE] Enable third party cookies and use Chrome browser\n",
    "files.download('./sample_data/mnist_train_small.csv')\n",
    "\n",
    "# Or simply open file tab and right click a file then download <-- Recommended"
   ]
  },
  {
   "cell_type": "code",
   "execution_count": null,
   "metadata": {
    "id": "j4BaBcpeDGpO"
   },
   "outputs": [],
   "source": [
    "# Mount Google drive\n",
    "from google.colab import drive\n",
    "\n",
    "drive.mount('/content/gdrive')"
   ]
  },
  {
   "cell_type": "markdown",
   "metadata": {
    "id": "Wk7cUX5azP05"
   },
   "source": [
    "# Numpy Tutorial\n",
    "\n",
    "Refers heavily on \n",
    "https://nbviewer.jupyter.org/github/cgpotts/cs224u/blob/2019-spring/numpy_tutorial.ipynb\n"
   ]
  },
  {
   "cell_type": "markdown",
   "metadata": {
    "id": "NkbdcOUnO5il"
   },
   "source": [
    "Why should we care about NumPy?\n",
    "\n",
    "it is really useful in case you have bunch of numbers. \n",
    "What you are going to handle during the course is data, which is represented by numbers, so if you crunch those numbers, numpy would help you a lot \n",
    "\n",
    "- It allows you to perform tons of operations on vectors and matrices.\n",
    "- It makes things run faster than naive for-loop implementations (a.k.a. vectorization).\n",
    "- Its arrays are often inputs into other important Python packages' functions."
   ]
  },
  {
   "cell_type": "code",
   "execution_count": null,
   "metadata": {
    "executionInfo": {
     "elapsed": 612,
     "status": "ok",
     "timestamp": 1617616326834,
     "user": {
      "displayName": "성균관대학교홍만수",
      "photoUrl": "",
      "userId": "05963146355021129777"
     },
     "user_tz": -540
    },
    "id": "vK_XkXfNy7oU"
   },
   "outputs": [],
   "source": [
    "import numpy as np"
   ]
  },
  {
   "cell_type": "markdown",
   "metadata": {
    "id": "5x7X5YrLzF63"
   },
   "source": [
    "## Vectors & Matrices"
   ]
  },
  {
   "cell_type": "markdown",
   "metadata": {
    "id": "dc6oHf2H0V6a"
   },
   "source": [
    "### Initialization"
   ]
  },
  {
   "cell_type": "markdown",
   "metadata": {
    "id": "52_RM8oURVGs"
   },
   "source": [
    " A numpy array is a grid of values, all of the same type, and is indexed by a tuple of nonnegative integers"
   ]
  },
  {
   "cell_type": "markdown",
   "metadata": {
    "id": "eFdOsD0MY206"
   },
   "source": [
    "creates a numpy array populated with zeros  "
   ]
  },
  {
   "cell_type": "code",
   "execution_count": null,
   "metadata": {
    "colab": {
     "base_uri": "https://localhost:8080/"
    },
    "executionInfo": {
     "elapsed": 534,
     "status": "ok",
     "timestamp": 1617616371053,
     "user": {
      "displayName": "성균관대학교홍만수",
      "photoUrl": "",
      "userId": "05963146355021129777"
     },
     "user_tz": -540
    },
    "id": "CIfxeRiOzFcp",
    "outputId": "9ceba2ab-d84d-4e76-f55b-ba38326bb16a"
   },
   "outputs": [],
   "source": [
    "np.zeros(5)"
   ]
  },
  {
   "cell_type": "markdown",
   "metadata": {
    "id": "0F6L0gdsY38Q"
   },
   "source": [
    "use tuple to specify the dimensions"
   ]
  },
  {
   "cell_type": "code",
   "execution_count": null,
   "metadata": {
    "colab": {
     "base_uri": "https://localhost:8080/"
    },
    "executionInfo": {
     "elapsed": 604,
     "status": "ok",
     "timestamp": 1617616438041,
     "user": {
      "displayName": "성균관대학교홍만수",
      "photoUrl": "",
      "userId": "05963146355021129777"
     },
     "user_tz": -540
    },
    "id": "lduuvT8ec-iX",
    "outputId": "fa39fcdf-f29d-44f5-ebc1-c655361733ff"
   },
   "outputs": [],
   "source": [
    "np.zeros((2, 4))"
   ]
  },
  {
   "cell_type": "code",
   "execution_count": null,
   "metadata": {
    "colab": {
     "base_uri": "https://localhost:8080/"
    },
    "executionInfo": {
     "elapsed": 511,
     "status": "ok",
     "timestamp": 1617616417156,
     "user": {
      "displayName": "성균관대학교홍만수",
      "photoUrl": "",
      "userId": "05963146355021129777"
     },
     "user_tz": -540
    },
    "id": "IOuBYS5QzEdW",
    "outputId": "86d0607a-cda2-4418-95a4-0ce394decb35"
   },
   "outputs": [],
   "source": [
    "np.ones((3, 5))"
   ]
  },
  {
   "cell_type": "markdown",
   "metadata": {
    "id": "1pJJsyk9Y9Bk"
   },
   "source": [
    "so np.dot array and that will create one whre you put a list inside these brackets"
   ]
  },
  {
   "cell_type": "code",
   "execution_count": null,
   "metadata": {
    "colab": {
     "base_uri": "https://localhost:8080/"
    },
    "executionInfo": {
     "elapsed": 594,
     "status": "ok",
     "timestamp": 1617616598680,
     "user": {
      "displayName": "성균관대학교홍만수",
      "photoUrl": "",
      "userId": "05963146355021129777"
     },
     "user_tz": -540
    },
    "id": "LrG0p8smdZnp",
    "outputId": "c6c6d406-bba5-4191-9a46-0074f8a669db"
   },
   "outputs": [],
   "source": [
    "b + a"
   ]
  },
  {
   "cell_type": "code",
   "execution_count": null,
   "metadata": {
    "colab": {
     "base_uri": "https://localhost:8080/"
    },
    "executionInfo": {
     "elapsed": 455,
     "status": "ok",
     "timestamp": 1617616530592,
     "user": {
      "displayName": "성균관대학교홍만수",
      "photoUrl": "",
      "userId": "05963146355021129777"
     },
     "user_tz": -540
    },
    "id": "8FbbUutizL-3",
    "outputId": "3ea231cb-3bcc-4184-baab-cdb750f4274b"
   },
   "outputs": [],
   "source": [
    "# convert list to numpy array\n",
    "a = [1, 2, 3, 4, 5]\n",
    "b = np.array(a)\n",
    "b"
   ]
  },
  {
   "cell_type": "markdown",
   "metadata": {
    "id": "Mw-e59kfY8u6"
   },
   "source": []
  },
  {
   "cell_type": "code",
   "execution_count": null,
   "metadata": {
    "colab": {
     "base_uri": "https://localhost:8080/"
    },
    "executionInfo": {
     "elapsed": 499,
     "status": "ok",
     "timestamp": 1617616651377,
     "user": {
      "displayName": "성균관대학교홍만수",
      "photoUrl": "",
      "userId": "05963146355021129777"
     },
     "user_tz": -540
    },
    "id": "MrfLFJ5pzc-w",
    "outputId": "a40cccad-9d9a-47ac-91ca-339af266c109"
   },
   "outputs": [],
   "source": [
    "# convert numpy array to list\n",
    "np.ones(5).tolist()"
   ]
  },
  {
   "cell_type": "code",
   "execution_count": null,
   "metadata": {
    "colab": {
     "base_uri": "https://localhost:8080/"
    },
    "executionInfo": {
     "elapsed": 481,
     "status": "ok",
     "timestamp": 1617616705835,
     "user": {
      "displayName": "성균관대학교홍만수",
      "photoUrl": "",
      "userId": "05963146355021129777"
     },
     "user_tz": -540
    },
    "id": "BiMCVVjKzuDo",
    "outputId": "c7f40f58-2845-4817-fc39-2faf300ecd11"
   },
   "outputs": [],
   "source": [
    "# you can specify data type\n",
    "np.array([[1,2,3], [4,5,6]], dtype='double')"
   ]
  },
  {
   "cell_type": "code",
   "execution_count": null,
   "metadata": {
    "colab": {
     "base_uri": "https://localhost:8080/"
    },
    "executionInfo": {
     "elapsed": 492,
     "status": "ok",
     "timestamp": 1617616900134,
     "user": {
      "displayName": "성균관대학교홍만수",
      "photoUrl": "",
      "userId": "05963146355021129777"
     },
     "user_tz": -540
    },
    "id": "xwtg0JQeeq5F",
    "outputId": "4adbb3cf-33be-4038-8a2c-ca2d1b9c3593"
   },
   "outputs": [],
   "source": [
    "list(range(0, 20, 2))"
   ]
  },
  {
   "cell_type": "code",
   "execution_count": null,
   "metadata": {
    "colab": {
     "base_uri": "https://localhost:8080/"
    },
    "executionInfo": {
     "elapsed": 606,
     "status": "ok",
     "timestamp": 1617616905080,
     "user": {
      "displayName": "성균관대학교홍만수",
      "photoUrl": "",
      "userId": "05963146355021129777"
     },
     "user_tz": -540
    },
    "id": "Z9h21mc8z79c",
    "outputId": "e9ffeec5-f5b0-4511-95d9-1282012d3671"
   },
   "outputs": [],
   "source": [
    "# spaced values in interval\n",
    "np.arange(0, 20, 2)"
   ]
  },
  {
   "cell_type": "code",
   "execution_count": null,
   "metadata": {
    "colab": {
     "base_uri": "https://localhost:8080/"
    },
    "executionInfo": {
     "elapsed": 486,
     "status": "ok",
     "timestamp": 1617617003343,
     "user": {
      "displayName": "성균관대학교홍만수",
      "photoUrl": "",
      "userId": "05963146355021129777"
     },
     "user_tz": -540
    },
    "id": "D12zKwgV0EyU",
    "outputId": "4f7a254f-5e89-419e-dd0c-0d05a9186056"
   },
   "outputs": [],
   "source": [
    "# random floats in [0, 1)\n",
    "np.random.random(10)"
   ]
  },
  {
   "cell_type": "code",
   "execution_count": null,
   "metadata": {
    "colab": {
     "base_uri": "https://localhost:8080/"
    },
    "executionInfo": {
     "elapsed": 464,
     "status": "ok",
     "timestamp": 1617617034482,
     "user": {
      "displayName": "성균관대학교홍만수",
      "photoUrl": "",
      "userId": "05963146355021129777"
     },
     "user_tz": -540
    },
    "id": "5mlOXgfr5sfI",
    "outputId": "47bcc265-af55-40ac-aec5-9a01173306d8"
   },
   "outputs": [],
   "source": [
    "# identity matrix\n",
    "np.identity(2)"
   ]
  },
  {
   "cell_type": "markdown",
   "metadata": {
    "id": "thm8GLwl0XRW"
   },
   "source": [
    "### Indexing"
   ]
  },
  {
   "cell_type": "code",
   "execution_count": null,
   "metadata": {
    "executionInfo": {
     "elapsed": 529,
     "status": "ok",
     "timestamp": 1617617084296,
     "user": {
      "displayName": "성균관대학교홍만수",
      "photoUrl": "",
      "userId": "05963146355021129777"
     },
     "user_tz": -540
    },
    "id": "XPoqQr6-0OM-"
   },
   "outputs": [],
   "source": [
    "x = np.array([10, 20, 30, 40, 50])"
   ]
  },
  {
   "cell_type": "code",
   "execution_count": null,
   "metadata": {
    "colab": {
     "base_uri": "https://localhost:8080/"
    },
    "executionInfo": {
     "elapsed": 477,
     "status": "ok",
     "timestamp": 1617617086225,
     "user": {
      "displayName": "성균관대학교홍만수",
      "photoUrl": "",
      "userId": "05963146355021129777"
     },
     "user_tz": -540
    },
    "id": "y1EI7a610bxh",
    "outputId": "6ada8ab4-d7f2-4dea-89e5-d424ce3ee8ea"
   },
   "outputs": [],
   "source": [
    "x[0]"
   ]
  },
  {
   "cell_type": "code",
   "execution_count": null,
   "metadata": {
    "colab": {
     "base_uri": "https://localhost:8080/"
    },
    "executionInfo": {
     "elapsed": 490,
     "status": "ok",
     "timestamp": 1617617095256,
     "user": {
      "displayName": "성균관대학교홍만수",
      "photoUrl": "",
      "userId": "05963146355021129777"
     },
     "user_tz": -540
    },
    "id": "m8mVc6nx0e5o",
    "outputId": "c33b5497-5e55-468a-c293-4489f28aeac2"
   },
   "outputs": [],
   "source": [
    "x[0:2]"
   ]
  },
  {
   "cell_type": "code",
   "execution_count": null,
   "metadata": {
    "colab": {
     "base_uri": "https://localhost:8080/"
    },
    "executionInfo": {
     "elapsed": 487,
     "status": "ok",
     "timestamp": 1617617106052,
     "user": {
      "displayName": "성균관대학교홍만수",
      "photoUrl": "",
      "userId": "05963146355021129777"
     },
     "user_tz": -540
    },
    "id": "qVqymdRQ6ceH",
    "outputId": "a34bd7fa-195e-457d-c910-840e69df2307"
   },
   "outputs": [],
   "source": [
    "X = np.array([[1,2,3], [4,5,6]])\n",
    "X"
   ]
  },
  {
   "cell_type": "code",
   "execution_count": null,
   "metadata": {
    "colab": {
     "base_uri": "https://localhost:8080/"
    },
    "executionInfo": {
     "elapsed": 546,
     "status": "ok",
     "timestamp": 1617617111575,
     "user": {
      "displayName": "성균관대학교홍만수",
      "photoUrl": "",
      "userId": "05963146355021129777"
     },
     "user_tz": -540
    },
    "id": "op5C888o441M",
    "outputId": "5560b25a-d934-420b-962d-791331885b0c"
   },
   "outputs": [],
   "source": [
    "X.shape"
   ]
  },
  {
   "cell_type": "code",
   "execution_count": null,
   "metadata": {
    "colab": {
     "base_uri": "https://localhost:8080/"
    },
    "executionInfo": {
     "elapsed": 487,
     "status": "ok",
     "timestamp": 1617617119012,
     "user": {
      "displayName": "성균관대학교홍만수",
      "photoUrl": "",
      "userId": "05963146355021129777"
     },
     "user_tz": -540
    },
    "id": "T9hR4X3H6ceK",
    "outputId": "0e52d13c-b017-4315-cc64-4d5c4fe17ba5"
   },
   "outputs": [],
   "source": [
    "X[0]"
   ]
  },
  {
   "cell_type": "code",
   "execution_count": null,
   "metadata": {
    "colab": {
     "base_uri": "https://localhost:8080/"
    },
    "executionInfo": {
     "elapsed": 601,
     "status": "ok",
     "timestamp": 1617617142637,
     "user": {
      "displayName": "성균관대학교홍만수",
      "photoUrl": "",
      "userId": "05963146355021129777"
     },
     "user_tz": -540
    },
    "id": "lgQR6P616ceN",
    "outputId": "4e42996a-6a33-4e7b-fa05-3ddd9c78ffa4"
   },
   "outputs": [],
   "source": [
    "X[0,1]"
   ]
  },
  {
   "cell_type": "code",
   "execution_count": null,
   "metadata": {
    "colab": {
     "base_uri": "https://localhost:8080/"
    },
    "executionInfo": {
     "elapsed": 506,
     "status": "ok",
     "timestamp": 1617617186781,
     "user": {
      "displayName": "성균관대학교홍만수",
      "photoUrl": "",
      "userId": "05963146355021129777"
     },
     "user_tz": -540
    },
    "id": "U7JP86S66ceP",
    "outputId": "0b43127b-b8c5-4e58-974e-daa99ec82356"
   },
   "outputs": [],
   "source": [
    "# get row\n",
    "X[0, :]"
   ]
  },
  {
   "cell_type": "code",
   "execution_count": null,
   "metadata": {
    "colab": {
     "base_uri": "https://localhost:8080/"
    },
    "executionInfo": {
     "elapsed": 506,
     "status": "ok",
     "timestamp": 1617617198465,
     "user": {
      "displayName": "성균관대학교홍만수",
      "photoUrl": "",
      "userId": "05963146355021129777"
     },
     "user_tz": -540
    },
    "id": "wvEFYPCG6ceR",
    "outputId": "1f31cd00-9b75-4b7e-f760-9d5909e35518"
   },
   "outputs": [],
   "source": [
    "# get column\n",
    "X[:, 0]"
   ]
  },
  {
   "cell_type": "code",
   "execution_count": null,
   "metadata": {
    "colab": {
     "base_uri": "https://localhost:8080/"
    },
    "executionInfo": {
     "elapsed": 565,
     "status": "ok",
     "timestamp": 1617617248118,
     "user": {
      "displayName": "성균관대학교홍만수",
      "photoUrl": "",
      "userId": "05963146355021129777"
     },
     "user_tz": -540
    },
    "id": "cY6OJmaQ6ceT",
    "outputId": "bb6082fb-800c-4ff5-816c-4c8ee3ecc39d"
   },
   "outputs": [],
   "source": [
    "# get multiple columns\n",
    "X[ :, [0, 2]]"
   ]
  },
  {
   "cell_type": "markdown",
   "metadata": {
    "id": "cMf0sFtk0vsJ"
   },
   "source": [
    "### Assignment"
   ]
  },
  {
   "cell_type": "markdown",
   "metadata": {
    "id": "9NkEiT6-q7Q6"
   },
   "source": [
    "If you assign a new array refers to the original array, it will have same memory space. \n",
    "\n",
    "That is, if you modify the new array, the original array is also modified. \n",
    "\n",
    "To have a new arrangement, You need to use copy() to assign it to different variables."
   ]
  },
  {
   "cell_type": "code",
   "execution_count": null,
   "metadata": {
    "colab": {
     "base_uri": "https://localhost:8080/"
    },
    "executionInfo": {
     "elapsed": 569,
     "status": "ok",
     "timestamp": 1617617523355,
     "user": {
      "displayName": "성균관대학교홍만수",
      "photoUrl": "",
      "userId": "05963146355021129777"
     },
     "user_tz": -540
    },
    "id": "R1s8e4w452pB",
    "outputId": "d8a80c21-98b7-4be6-8da3-5b747a108410"
   },
   "outputs": [],
   "source": [
    "a = np.array([[1,2,3,4], [5,6,7,8], [9,10,11,12]])\n",
    "# b = a\n",
    "b = a[:2, 1:3]\n",
    "print(id(a))\n",
    "print(id(b))\n",
    "\n",
    "print(a[0, 1])\n",
    "b[0, 0] = 77    \n",
    "print(a[0, 1])   "
   ]
  },
  {
   "cell_type": "code",
   "execution_count": null,
   "metadata": {
    "colab": {
     "base_uri": "https://localhost:8080/"
    },
    "executionInfo": {
     "elapsed": 489,
     "status": "ok",
     "timestamp": 1617617558598,
     "user": {
      "displayName": "성균관대학교홍만수",
      "photoUrl": "",
      "userId": "05963146355021129777"
     },
     "user_tz": -540
    },
    "id": "cPRH7TD76E1G",
    "outputId": "247a4b86-8bf0-407a-a786-d8450f624e4a"
   },
   "outputs": [],
   "source": [
    "c = a.copy()\n",
    "# assert id(a) != id(c), 'Functional methods create a new copy of the array'\n",
    "\n",
    "c = c[:2, 1:3]\n",
    "print(a[0, 1])   \n",
    "c[0, 0] = 2    \n",
    "print(a[0, 1])  "
   ]
  },
  {
   "cell_type": "markdown",
   "metadata": {
    "id": "KynXuXRn1U0t"
   },
   "source": [
    "### Operations (functions)"
   ]
  },
  {
   "cell_type": "code",
   "execution_count": null,
   "metadata": {
    "colab": {
     "base_uri": "https://localhost:8080/"
    },
    "executionInfo": {
     "elapsed": 553,
     "status": "ok",
     "timestamp": 1617617615568,
     "user": {
      "displayName": "성균관대학교홍만수",
      "photoUrl": "",
      "userId": "05963146355021129777"
     },
     "user_tz": -540
    },
    "id": "GEeL87Hg6fXa",
    "outputId": "8afe54c7-fe0e-45bf-f63e-3f6e1d3c3aec"
   },
   "outputs": [],
   "source": [
    "a = np.array([[1,2,3,4],\n",
    "              [5,6,7,8],\n",
    "              [9,10,11,12]])\n",
    "#  Built-in function\n",
    "print(a.sum())   \n",
    "print(a.mean()) \n",
    "print(a.max())   \n",
    "print(a.argmax()) # 가장 큰 숫자의 인덱스, 위치를 알려줌"
   ]
  },
  {
   "cell_type": "code",
   "execution_count": null,
   "metadata": {
    "colab": {
     "base_uri": "https://localhost:8080/"
    },
    "executionInfo": {
     "elapsed": 590,
     "status": "ok",
     "timestamp": 1617617702946,
     "user": {
      "displayName": "성균관대학교홍만수",
      "photoUrl": "",
      "userId": "05963146355021129777"
     },
     "user_tz": -540
    },
    "id": "QzEHGrhP6vhI",
    "outputId": "3058dede-8352-4415-b577-cb06de96b452"
   },
   "outputs": [],
   "source": [
    "print(a.max(axis=1))"
   ]
  },
  {
   "cell_type": "code",
   "execution_count": null,
   "metadata": {
    "colab": {
     "base_uri": "https://localhost:8080/"
    },
    "executionInfo": {
     "elapsed": 595,
     "status": "ok",
     "timestamp": 1617617734196,
     "user": {
      "displayName": "성균관대학교홍만수",
      "photoUrl": "",
      "userId": "05963146355021129777"
     },
     "user_tz": -540
    },
    "id": "XPgvzbJT6wVe",
    "outputId": "414d9ed5-addb-41ae-b7e8-a723f65410c3"
   },
   "outputs": [],
   "source": [
    "# others\n",
    "print(np.log(a)) \n",
    "print(np.exp(a)) "
   ]
  },
  {
   "cell_type": "code",
   "execution_count": null,
   "metadata": {
    "colab": {
     "base_uri": "https://localhost:8080/"
    },
    "executionInfo": {
     "elapsed": 592,
     "status": "ok",
     "timestamp": 1617617742799,
     "user": {
      "displayName": "성균관대학교홍만수",
      "photoUrl": "",
      "userId": "05963146355021129777"
     },
     "user_tz": -540
    },
    "id": "LIYsz2fs6gao",
    "outputId": "b3d4ecf8-1dd9-4b48-f478-b0f722797ba9"
   },
   "outputs": [],
   "source": [
    "a"
   ]
  },
  {
   "cell_type": "code",
   "execution_count": null,
   "metadata": {
    "id": "WMZ8C28K6xE5"
   },
   "outputs": [],
   "source": [
    "\"\"\" Broadcasting \"\"\"\n",
    "# Vector + scalar\n",
    "# print(a + 1) \n",
    "\n",
    "# 2 x 1 Vector + 1 x 2 Vector\n",
    "# m1 = np.array([[1, 2]])\n",
    "# m2 = np.array([[3], \n",
    "#                [4]])\n",
    "\n",
    "# print(m1 + m2)"
   ]
  },
  {
   "cell_type": "markdown",
   "metadata": {
    "id": "PqBDDpQ16f5w"
   },
   "source": [
    "### Reshaping"
   ]
  },
  {
   "cell_type": "code",
   "execution_count": null,
   "metadata": {
    "colab": {
     "base_uri": "https://localhost:8080/"
    },
    "executionInfo": {
     "elapsed": 503,
     "status": "ok",
     "timestamp": 1617617771984,
     "user": {
      "displayName": "성균관대학교홍만수",
      "photoUrl": "",
      "userId": "05963146355021129777"
     },
     "user_tz": -540
    },
    "id": "U41aI8kC5S1g",
    "outputId": "6d60b586-cccf-4a1a-c891-2ff00873c655"
   },
   "outputs": [],
   "source": [
    "z = np.arange(1, 7)\n",
    "z"
   ]
  },
  {
   "cell_type": "code",
   "execution_count": null,
   "metadata": {
    "colab": {
     "base_uri": "https://localhost:8080/"
    },
    "executionInfo": {
     "elapsed": 502,
     "status": "ok",
     "timestamp": 1617617777262,
     "user": {
      "displayName": "성균관대학교홍만수",
      "photoUrl": "",
      "userId": "05963146355021129777"
     },
     "user_tz": -540
    },
    "id": "bKHih5qF54Zy",
    "outputId": "8c65dda3-976a-489d-bfc3-903e68d66daf"
   },
   "outputs": [],
   "source": [
    "z.shape"
   ]
  },
  {
   "cell_type": "code",
   "execution_count": null,
   "metadata": {
    "colab": {
     "base_uri": "https://localhost:8080/"
    },
    "executionInfo": {
     "elapsed": 508,
     "status": "ok",
     "timestamp": 1617617803365,
     "user": {
      "displayName": "성균관대학교홍만수",
      "photoUrl": "",
      "userId": "05963146355021129777"
     },
     "user_tz": -540
    },
    "id": "ha8wA70c55bO",
    "outputId": "50d092ce-8919-4dd6-8e4d-e58ede872ecd"
   },
   "outputs": [],
   "source": [
    "Z = z.reshape(2, 3)\n",
    "Z"
   ]
  },
  {
   "cell_type": "code",
   "execution_count": null,
   "metadata": {
    "colab": {
     "base_uri": "https://localhost:8080/"
    },
    "executionInfo": {
     "elapsed": 489,
     "status": "ok",
     "timestamp": 1617617821554,
     "user": {
      "displayName": "성균관대학교홍만수",
      "photoUrl": "",
      "userId": "05963146355021129777"
     },
     "user_tz": -540
    },
    "id": "6REYzs2P6DR7",
    "outputId": "93f7a534-b611-4b47-de26-c2585636bc0e"
   },
   "outputs": [],
   "source": [
    "Z.shape"
   ]
  },
  {
   "cell_type": "code",
   "execution_count": null,
   "metadata": {
    "colab": {
     "base_uri": "https://localhost:8080/"
    },
    "executionInfo": {
     "elapsed": 566,
     "status": "ok",
     "timestamp": 1617617826441,
     "user": {
      "displayName": "성균관대학교홍만수",
      "photoUrl": "",
      "userId": "05963146355021129777"
     },
     "user_tz": -540
    },
    "id": "sMUt1s_n6Tlf",
    "outputId": "c7b6625b-59ff-4229-ed54-dcab67c8fc4e"
   },
   "outputs": [],
   "source": [
    "Z.reshape(6)"
   ]
  },
  {
   "cell_type": "code",
   "execution_count": null,
   "metadata": {
    "colab": {
     "base_uri": "https://localhost:8080/"
    },
    "executionInfo": {
     "elapsed": 484,
     "status": "ok",
     "timestamp": 1617617858474,
     "user": {
      "displayName": "성균관대학교홍만수",
      "photoUrl": "",
      "userId": "05963146355021129777"
     },
     "user_tz": -540
    },
    "id": "CJSd4FmC6Upj",
    "outputId": "39ff5851-54fb-44c7-b850-047055cd262a"
   },
   "outputs": [],
   "source": [
    "# same as above\n",
    "Z.flatten()"
   ]
  },
  {
   "cell_type": "code",
   "execution_count": null,
   "metadata": {
    "colab": {
     "base_uri": "https://localhost:8080/"
    },
    "executionInfo": {
     "elapsed": 502,
     "status": "ok",
     "timestamp": 1617617869956,
     "user": {
      "displayName": "성균관대학교홍만수",
      "photoUrl": "",
      "userId": "05963146355021129777"
     },
     "user_tz": -540
    },
    "id": "9t8S7tEA6WYZ",
    "outputId": "b1b12319-9cdc-4552-e4c7-5753397f4e18"
   },
   "outputs": [],
   "source": [
    "# transpose the matrix\n",
    "Z.T"
   ]
  },
  {
   "cell_type": "markdown",
   "metadata": {
    "id": "haKFLP_j1u-0"
   },
   "source": [
    "## Comparison with python lists\n",
    "\n",
    "Why do we use array? \n",
    "- Vectorizing your mathematical expressions can lead to huge performance gains. \n",
    "\n",
    "The following example is meant to give you a sense for this. It compares applying np.log to each element of a list with 10 million values with the same operation done on a vector.\n"
   ]
  },
  {
   "cell_type": "code",
   "execution_count": null,
   "metadata": {
    "executionInfo": {
     "elapsed": 599,
     "status": "ok",
     "timestamp": 1617617894369,
     "user": {
      "displayName": "성균관대학교홍만수",
      "photoUrl": "",
      "userId": "05963146355021129777"
     },
     "user_tz": -540
    },
    "id": "XSSHmWEp3COu"
   },
   "outputs": [],
   "source": [
    "# log every value as list, one by one\n",
    "def listlog(vals):\n",
    "    return [np.log(y) for y in vals]"
   ]
  },
  {
   "cell_type": "code",
   "execution_count": null,
   "metadata": {
    "colab": {
     "base_uri": "https://localhost:8080/"
    },
    "executionInfo": {
     "elapsed": 781,
     "status": "ok",
     "timestamp": 1617617895123,
     "user": {
      "displayName": "성균관대학교홍만수",
      "photoUrl": "",
      "userId": "05963146355021129777"
     },
     "user_tz": -540
    },
    "id": "4Cri_K6P3Lzh",
    "outputId": "09e53f70-2097-41f7-b9e9-9e2167fc5ac3"
   },
   "outputs": [],
   "source": [
    "# get random vector\n",
    "samp = np.random.random_sample(int(1e7))+1\n",
    "samp"
   ]
  },
  {
   "cell_type": "code",
   "execution_count": null,
   "metadata": {
    "colab": {
     "base_uri": "https://localhost:8080/"
    },
    "executionInfo": {
     "elapsed": 16258,
     "status": "ok",
     "timestamp": 1617617911115,
     "user": {
      "displayName": "성균관대학교홍만수",
      "photoUrl": "",
      "userId": "05963146355021129777"
     },
     "user_tz": -540
    },
    "id": "-eiFlou93FBI",
    "outputId": "a211972b-a9c9-45f2-9d44-249b56ae21e6"
   },
   "outputs": [],
   "source": [
    "%time _ = listlog(samp)"
   ]
  },
  {
   "cell_type": "code",
   "execution_count": null,
   "metadata": {
    "colab": {
     "base_uri": "https://localhost:8080/"
    },
    "executionInfo": {
     "elapsed": 16764,
     "status": "ok",
     "timestamp": 1617617912024,
     "user": {
      "displayName": "성균관대학교홍만수",
      "photoUrl": "",
      "userId": "05963146355021129777"
     },
     "user_tz": -540
    },
    "id": "e9zaAGo33OIT",
    "outputId": "2a00b0e0-f5de-48f1-fcee-05db9a51a197"
   },
   "outputs": [],
   "source": [
    "%time _ = np.log(samp)"
   ]
  },
  {
   "cell_type": "markdown",
   "metadata": {
    "id": "HCqkfBzs7gkK"
   },
   "source": [
    "# Pytorch Tutorial\n",
    "\n",
    "Refers heavily on \n",
    "https://github.com/cgpotts/cs224u/blob/master/tutorial_pytorch.ipynb"
   ]
  },
  {
   "cell_type": "code",
   "execution_count": null,
   "metadata": {
    "executionInfo": {
     "elapsed": 3155,
     "status": "ok",
     "timestamp": 1617618524232,
     "user": {
      "displayName": "성균관대학교홍만수",
      "photoUrl": "",
      "userId": "05963146355021129777"
     },
     "user_tz": -540
    },
    "id": "ya22tCBKYivi"
   },
   "outputs": [],
   "source": [
    "import torch"
   ]
  },
  {
   "cell_type": "markdown",
   "metadata": {
    "id": "-96WZDu4AYlY"
   },
   "source": [
    "## Tensors"
   ]
  },
  {
   "cell_type": "markdown",
   "metadata": {
    "id": "330jrEp_AYlY"
   },
   "source": [
    "Tensors collections of numbers represented as an array, and are the basic building blocks in PyTorch.\n",
    "\n",
    "You are probably already familiar with several types of tensors:\n",
    "    \n",
    "- A scalar, a single number, is a zero-th order tensor.\n",
    "    \n",
    "- A column vector $v$ of dimensionality $d_c \\times 1$ is a tensor of order 1.\n",
    "    \n",
    "- A row vector $x$ of dimensionality $1 \\times d_r$ is a tensor of order 1.\n",
    "    \n",
    "- A matrix $A$ of dimensionality $d_r \\times d_c$ is a tensor of order 2.\n",
    "    \n",
    "- A cube $T$ of dimensionality $d_r \\times d_c \\times d_d$ is a tensor of order 3. \n",
    "\n",
    "Tensors are the fundamental blocks that carry information in our mathematical models, and they are composed using several operations to create mathematical graphs in which information can flow (propagate) forward (functional application) and backwards (using the chain rule). \n",
    "\n",
    "We have seen multidimensional arrays in NumPy. These NumPy objects are also a representation of tensors."
   ]
  },
  {
   "cell_type": "markdown",
   "metadata": {
    "id": "aOwKRQ38QW0F"
   },
   "source": [
    "![image.png](data:image/png;base64,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)array = "
   ]
  },
  {
   "cell_type": "markdown",
   "metadata": {
    "id": "SZya2EQMAYlZ"
   },
   "source": [
    "### Tensor creation"
   ]
  },
  {
   "cell_type": "markdown",
   "metadata": {
    "id": "YNNmwaGDAYla"
   },
   "source": [
    "Let's get started with tensors in PyTorch. The framework supports eight different types \n",
    "\n",
    "- 3 float types (16-bit, 32-bit, 64-bit): `torch.FloatTensor` is the class name for the commonly used 32-bit tensor.\n",
    "- 5 integer types (signed 8-bit, unsigned 8-bit, 16-bit, 32-bit, 64-bit): common tensors of these types are the 8-bit unsigned tensor `torch.ByteTensor` and the 64-bit `torch.LongTensor`.\n"
   ]
  },
  {
   "cell_type": "markdown",
   "metadata": {
    "id": "w625NR1MYSmd"
   },
   "source": [
    "There are three fundamental ways to create tensors in PyTorch \n",
    "\n",
    "- Call a tensor constructor of a given type, which will create a non-initialized tensor. So we then need to fill this tensor later to be able to use it.\n",
    "- Call a built-in method in the `torch` module that returns a tensor that is already initialized.\n",
    "- Use the PyTorch–NumPy bridge."
   ]
  },
  {
   "cell_type": "markdown",
   "metadata": {
    "id": "uHZHPUqHAYla"
   },
   "source": [
    "#### Calling the constructor"
   ]
  },
  {
   "cell_type": "markdown",
   "metadata": {
    "id": "DXBWJqa7AYlb"
   },
   "source": [
    "Let's first create a 2 x 3 dimensional tensor of the type `float`:"
   ]
  },
  {
   "cell_type": "code",
   "execution_count": null,
   "metadata": {
    "colab": {
     "base_uri": "https://localhost:8080/"
    },
    "executionInfo": {
     "elapsed": 923,
     "status": "ok",
     "timestamp": 1617618666399,
     "user": {
      "displayName": "성균관대학교홍만수",
      "photoUrl": "",
      "userId": "05963146355021129777"
     },
     "user_tz": -540
    },
    "id": "0FnpV8u1AYlb",
    "outputId": "53168a84-0712-474f-ff3e-41f8463d591b"
   },
   "outputs": [],
   "source": [
    "t = torch.FloatTensor(2, 3)\n",
    "\n",
    "print(t)\n",
    "print(t.size())"
   ]
  },
  {
   "cell_type": "markdown",
   "metadata": {
    "id": "8TM65VTL93Wj"
   },
   "source": []
  },
  {
   "cell_type": "code",
   "execution_count": null,
   "metadata": {
    "colab": {
     "base_uri": "https://localhost:8080/"
    },
    "executionInfo": {
     "elapsed": 606,
     "status": "ok",
     "timestamp": 1617618630214,
     "user": {
      "displayName": "성균관대학교홍만수",
      "photoUrl": "",
      "userId": "05963146355021129777"
     },
     "user_tz": -540
    },
    "id": "Xiu2qlZxCTbi",
    "outputId": "129348a5-24dc-4b11-9779-c87762db8898"
   },
   "outputs": [],
   "source": [
    "t.shape"
   ]
  },
  {
   "cell_type": "markdown",
   "metadata": {
    "id": "89v5-D_Mkdfd"
   },
   "source": [
    "The constructor method allocates space in memory for this tensor. However, the tensor is *non-initialized*. In order to initialize it, we need to call any of the tensor initialization methods of the basic tensor types. For example, the tensor we just created has a built-in method `zero_()`:"
   ]
  },
  {
   "cell_type": "markdown",
   "metadata": {
    "id": "wmLHdLHhkYZt"
   },
   "source": [
    "The underscore after the method name is important: it means that the operation happens _in place_: the returned object is the same object but now with different content. \n"
   ]
  },
  {
   "cell_type": "code",
   "execution_count": null,
   "metadata": {
    "colab": {
     "base_uri": "https://localhost:8080/"
    },
    "executionInfo": {
     "elapsed": 870,
     "status": "ok",
     "timestamp": 1617618682094,
     "user": {
      "displayName": "성균관대학교홍만수",
      "photoUrl": "",
      "userId": "05963146355021129777"
     },
     "user_tz": -540
    },
    "id": "QOsBbJsLAYle",
    "outputId": "d63f9345-841c-4f20-acc8-5781048231e5"
   },
   "outputs": [],
   "source": [
    "t.zero_()"
   ]
  },
  {
   "cell_type": "code",
   "execution_count": null,
   "metadata": {
    "colab": {
     "base_uri": "https://localhost:8080/"
    },
    "executionInfo": {
     "elapsed": 478,
     "status": "ok",
     "timestamp": 1617618689901,
     "user": {
      "displayName": "성균관대학교홍만수",
      "photoUrl": "",
      "userId": "05963146355021129777"
     },
     "user_tz": -540
    },
    "id": "twX8PMHTCanL",
    "outputId": "2b06756f-5d09-420e-eac1-694b940eee00"
   },
   "outputs": [],
   "source": [
    "torch.ones(4)"
   ]
  },
  {
   "cell_type": "markdown",
   "metadata": {
    "id": "OEhrH9CjAYlg"
   },
   "source": [
    "\n",
    "\n",
    "Same as Numpy, when we have available the content we want to put in the tensor in the form of a Python iterable. In this case, we just pass it as the argument to the constructor:"
   ]
  },
  {
   "cell_type": "code",
   "execution_count": null,
   "metadata": {
    "colab": {
     "base_uri": "https://localhost:8080/"
    },
    "executionInfo": {
     "elapsed": 489,
     "status": "ok",
     "timestamp": 1617618716440,
     "user": {
      "displayName": "성균관대학교홍만수",
      "photoUrl": "",
      "userId": "05963146355021129777"
     },
     "user_tz": -540
    },
    "id": "dSRL60GsAYlh",
    "outputId": "591e7732-a8f3-4a11-a463-5a7bdd9bc8a3"
   },
   "outputs": [],
   "source": [
    "torch.FloatTensor([[1, 2, 3], [4, 5, 6]])"
   ]
  },
  {
   "cell_type": "markdown",
   "metadata": {
    "id": "XCL_ipglAYlj"
   },
   "source": [
    "#### Calling a method in the torch module"
   ]
  },
  {
   "cell_type": "markdown",
   "metadata": {
    "id": "2cSc5fHtAYlj"
   },
   "source": [
    "A very convenient way to create tensors, in addition to using the constructor method, is to use one of the multiple methods provided in the `torch` module. In particular, the `tensor` method allows us to pass a number or iterable as the argument to get the appropriately typed tensor:"
   ]
  },
  {
   "cell_type": "code",
   "execution_count": null,
   "metadata": {
    "colab": {
     "base_uri": "https://localhost:8080/"
    },
    "executionInfo": {
     "elapsed": 519,
     "status": "ok",
     "timestamp": 1617618746819,
     "user": {
      "displayName": "성균관대학교홍만수",
      "photoUrl": "",
      "userId": "05963146355021129777"
     },
     "user_tz": -540
    },
    "id": "K8fRMb_kAYlj",
    "outputId": "71e75737-8da7-496f-a2fe-7b251e722c4e"
   },
   "outputs": [],
   "source": [
    "tl = torch.tensor([1, 2, 3])\n",
    "t = torch.tensor([1., 2., 3.])\n",
    "print(\"A 64-bit integer tensor: {}, {}\".format(tl, tl.type()))\n",
    "print(\"A 32-bit float tensor: {}, {}\".format(t, t.type()))"
   ]
  },
  {
   "cell_type": "markdown",
   "metadata": {
    "id": "8Dkpfu8dAYlm"
   },
   "source": [
    "We can create a similar 2x3 tensor to the one above by using the `torch.zeros()` method, passing a sequence of dimensions to it: "
   ]
  },
  {
   "cell_type": "code",
   "execution_count": null,
   "metadata": {
    "colab": {
     "base_uri": "https://localhost:8080/"
    },
    "executionInfo": {
     "elapsed": 559,
     "status": "ok",
     "timestamp": 1617618775280,
     "user": {
      "displayName": "성균관대학교홍만수",
      "photoUrl": "",
      "userId": "05963146355021129777"
     },
     "user_tz": -540
    },
    "id": "9IAozG4qAYln",
    "outputId": "7586eb4b-a2e2-4d7c-e3b4-3655ec8f5d02"
   },
   "outputs": [],
   "source": [
    "t = torch.zeros(2, 3)\n",
    "print(t)"
   ]
  },
  {
   "cell_type": "markdown",
   "metadata": {
    "id": "D3wi2nXbAYlp"
   },
   "source": [
    "There are many methods for creating tensors. We list some useful ones:"
   ]
  },
  {
   "cell_type": "code",
   "execution_count": null,
   "metadata": {
    "colab": {
     "base_uri": "https://localhost:8080/"
    },
    "executionInfo": {
     "elapsed": 449,
     "status": "ok",
     "timestamp": 1617618841742,
     "user": {
      "displayName": "성균관대학교홍만수",
      "photoUrl": "",
      "userId": "05963146355021129777"
     },
     "user_tz": -540
    },
    "id": "5HCcB4S3mBAK",
    "outputId": "36132559-ac50-4f6f-812d-49f0db0ec264"
   },
   "outputs": [],
   "source": [
    "torch.empty(2, 3)"
   ]
  },
  {
   "cell_type": "code",
   "execution_count": null,
   "metadata": {
    "colab": {
     "base_uri": "https://localhost:8080/"
    },
    "executionInfo": {
     "elapsed": 518,
     "status": "ok",
     "timestamp": 1617618784572,
     "user": {
      "displayName": "성균관대학교홍만수",
      "photoUrl": "",
      "userId": "05963146355021129777"
     },
     "user_tz": -540
    },
    "id": "C9OonMUXAYlp",
    "outputId": "7824671c-b08c-466e-e389-b0012db4f960"
   },
   "outputs": [],
   "source": [
    "t_zeros = torch.zeros_like(t)        # zeros_like returns a new tensor\n",
    "t_ones = torch.ones(2, 3)            # creates a tensor with 1s\n",
    "t_fives = torch.empty(2, 3).fill_(5) # creates a non-initialized tensor and fills it with 5\n",
    "t_random = torch.rand(2, 3)          # creates a uniform random tensor\n",
    "t_normal = torch.randn(2, 3)         # creates a normal random tensor\n",
    "\n",
    "print(t_zeros)\n",
    "print(t_ones)\n",
    "print(t_fives)\n",
    "print(t_random)\n",
    "print(t_normal)"
   ]
  },
  {
   "cell_type": "markdown",
   "metadata": {
    "id": "D0jDcUsnAYlr"
   },
   "source": [
    "We now see emerging two important paradigms in PyTorch. The _imperative_ approach to performing operations, using _inplace_ methods, is in marked contrast with an additional paradigm also used in PyTorch, the _functional_ approach, where the returned object is a copy of the original object. Both paradigms have their specific use cases as we will be seeing below. The rule of thumb is that _inplace_ methods are faster and don't require extra memory allocation in general, but they can be tricky to understand (keep this in mind regarding the computational graph that we will see below). _Functional_ methods make the code referentially transparent, which is a highly desired property that makes it easier to understand the underlying math, but we rely on the efficiency of the implementation:"
   ]
  },
  {
   "cell_type": "code",
   "execution_count": null,
   "metadata": {
    "colab": {
     "base_uri": "https://localhost:8080/"
    },
    "executionInfo": {
     "elapsed": 483,
     "status": "ok",
     "timestamp": 1617618981290,
     "user": {
      "displayName": "성균관대학교홍만수",
      "photoUrl": "",
      "userId": "05963146355021129777"
     },
     "user_tz": -540
    },
    "id": "zA6phbBkAYls",
    "outputId": "82c919b0-70ec-453d-8e49-7b69b636fab5"
   },
   "outputs": [],
   "source": [
    "# creates a new copy of the tensor that is still linked to \n",
    "# the computational graph (see below)\n",
    "\n",
    "t1 = torch.clone(t)\n",
    "print(id(t))\n",
    "print(id(t1))\n",
    "# assert id(t) != id(t1), 'Functional methods create a new copy of the tensor'\n",
    "\n",
    "\n",
    "# t1 = t\n",
    "# print(id(t))\n",
    "# print(id(t1))\n",
    "# assert id(t) != id(t1), 'Functional methods create a new copy of the tensor'\n",
    "\n",
    "# To create a new _independent_ copy, we do need to detach \n",
    "# from the graph\n",
    "t1 = torch.clone(t).detach()"
   ]
  },
  {
   "cell_type": "markdown",
   "metadata": {
    "id": "vdYHIc4oAYlu"
   },
   "source": [
    "#### Using the PyTorch–NumPy bridge"
   ]
  },
  {
   "cell_type": "markdown",
   "metadata": {
    "id": "FPKbEKfMAYlu"
   },
   "source": [
    "A quite useful feature of PyTorch is its almost seamless integration with NumPy, which allows us to perform operations on NumPy and interact from PyTorch with the large number of NumPy libraries as well. Converting a NumPy multi-dimensional array into a PyTorch tensor is very simple: we only need to call the `tensor` method with NumPy objects as the argument:"
   ]
  },
  {
   "cell_type": "code",
   "execution_count": null,
   "metadata": {
    "colab": {
     "base_uri": "https://localhost:8080/"
    },
    "executionInfo": {
     "elapsed": 506,
     "status": "ok",
     "timestamp": 1617619035329,
     "user": {
      "displayName": "성균관대학교홍만수",
      "photoUrl": "",
      "userId": "05963146355021129777"
     },
     "user_tz": -540
    },
    "id": "GdYQObiOAYlv",
    "outputId": "175d7d46-a437-468f-dfa0-3bd7a4436d3d"
   },
   "outputs": [],
   "source": [
    "# Create a new multi-dimensional array in NumPy with the np datatype (np.float32)\n",
    "a = np.array([1., 2., 3.])\n",
    "\n",
    "# Convert the array to a torch tensor\n",
    "t = torch.tensor(a)\n",
    "\n",
    "print(\"NumPy array: {}, type: {}\".format(a, a.dtype))\n",
    "print(\"Torch tensor: {}, type: {}\".format(t, t.dtype))"
   ]
  },
  {
   "cell_type": "markdown",
   "metadata": {
    "id": "zGkCh639AYlx"
   },
   "source": [
    "We can also seamlessly convert a PyTorch tensor into a NumPy array:"
   ]
  },
  {
   "cell_type": "code",
   "execution_count": null,
   "metadata": {
    "colab": {
     "base_uri": "https://localhost:8080/"
    },
    "executionInfo": {
     "elapsed": 584,
     "status": "ok",
     "timestamp": 1617619097691,
     "user": {
      "displayName": "성균관대학교홍만수",
      "photoUrl": "",
      "userId": "05963146355021129777"
     },
     "user_tz": -540
    },
    "id": "oMXSFDxYAYlx",
    "outputId": "94e959c7-9c5d-426a-afbd-6d4a8d000751"
   },
   "outputs": [],
   "source": [
    "t.numpy()"
   ]
  },
  {
   "cell_type": "markdown",
   "metadata": {
    "id": "-FU0EJZGAYl0"
   },
   "source": [
    "#### Indexing"
   ]
  },
  {
   "cell_type": "markdown",
   "metadata": {
    "id": "Zi4voWRLAYl0"
   },
   "source": [
    "\n",
    "\n",
    "Indexing works as expected with NumPy:"
   ]
  },
  {
   "cell_type": "code",
   "execution_count": null,
   "metadata": {
    "colab": {
     "base_uri": "https://localhost:8080/"
    },
    "executionInfo": {
     "elapsed": 509,
     "status": "ok",
     "timestamp": 1617619107968,
     "user": {
      "displayName": "성균관대학교홍만수",
      "photoUrl": "",
      "userId": "05963146355021129777"
     },
     "user_tz": -540
    },
    "id": "mM9XNyXPAYl0",
    "outputId": "2792aa28-1a50-4918-ad49-e06a91b8ae1b"
   },
   "outputs": [],
   "source": [
    "t = torch.randn(2, 3)\n",
    "t[ : , 0]"
   ]
  },
  {
   "cell_type": "markdown",
   "metadata": {
    "id": "IFEPUfsdAYl2"
   },
   "source": [
    "PyTorch also supports indexing using long tensors, for example:"
   ]
  },
  {
   "cell_type": "code",
   "execution_count": null,
   "metadata": {
    "colab": {
     "base_uri": "https://localhost:8080/"
    },
    "executionInfo": {
     "elapsed": 505,
     "status": "ok",
     "timestamp": 1617619113999,
     "user": {
      "displayName": "성균관대학교홍만수",
      "photoUrl": "",
      "userId": "05963146355021129777"
     },
     "user_tz": -540
    },
    "id": "QeJ1tJwYAYl3",
    "outputId": "059b7bcd-fcc0-438c-8d68-e837c8387591",
    "scrolled": true
   },
   "outputs": [],
   "source": [
    "t = torch.randn(5, 6)\n",
    "print(t)\n",
    "i = torch.tensor([1, 3])\n",
    "j = torch.tensor([4, 5])\n",
    "print(t[i])                          # selects rows 1 and 3\n",
    "print(t[i, j])                       # selects (1, 4) and (3, 5)"
   ]
  },
  {
   "cell_type": "markdown",
   "metadata": {
    "id": "YSbnhX1LAYl7"
   },
   "source": [
    "### Operations on tensors"
   ]
  },
  {
   "cell_type": "markdown",
   "metadata": {
    "id": "FjhWkH1rAYl7"
   },
   "source": [
    "Now that we know how to create tensors, let's create some of the fundamental tensors and see some common operations on them:"
   ]
  },
  {
   "cell_type": "code",
   "execution_count": null,
   "metadata": {
    "colab": {
     "base_uri": "https://localhost:8080/"
    },
    "executionInfo": {
     "elapsed": 501,
     "status": "ok",
     "timestamp": 1617619127963,
     "user": {
      "displayName": "성균관대학교홍만수",
      "photoUrl": "",
      "userId": "05963146355021129777"
     },
     "user_tz": -540
    },
    "id": "8r2LsFEsAYl8",
    "outputId": "54821e01-7b7e-4396-b5bd-af19d6d424ce"
   },
   "outputs": [],
   "source": [
    "# Scalars =: creates a tensor with a scalar \n",
    "# (zero-th order tensor,  i.e. just a number)\n",
    "s = torch.tensor(42)\n",
    "print(s)"
   ]
  },
  {
   "cell_type": "markdown",
   "metadata": {
    "id": "yttRKoorAYl-"
   },
   "source": [
    "**Tip**: a very convenient to access scalars is with `.item()`:"
   ]
  },
  {
   "cell_type": "code",
   "execution_count": null,
   "metadata": {
    "colab": {
     "base_uri": "https://localhost:8080/"
    },
    "executionInfo": {
     "elapsed": 525,
     "status": "ok",
     "timestamp": 1617619167111,
     "user": {
      "displayName": "성균관대학교홍만수",
      "photoUrl": "",
      "userId": "05963146355021129777"
     },
     "user_tz": -540
    },
    "id": "y4iC3kxtAYl-",
    "outputId": "0968f9ee-46af-4586-ba17-e4b4f256ffeb"
   },
   "outputs": [],
   "source": [
    "s.item()"
   ]
  },
  {
   "cell_type": "markdown",
   "metadata": {
    "id": "HBuQ_A6UmcyF"
   },
   "source": [
    "#### Matrix operation"
   ]
  },
  {
   "cell_type": "markdown",
   "metadata": {
    "id": "PL36vRwWAYmB"
   },
   "source": [
    "Let's see higher-order tensors – remember we can always inspect the dimensionality of a tensor using the `.size()` method:"
   ]
  },
  {
   "cell_type": "code",
   "execution_count": null,
   "metadata": {
    "colab": {
     "base_uri": "https://localhost:8080/"
    },
    "executionInfo": {
     "elapsed": 567,
     "status": "ok",
     "timestamp": 1617619189574,
     "user": {
      "displayName": "성균관대학교홍만수",
      "photoUrl": "",
      "userId": "05963146355021129777"
     },
     "user_tz": -540
    },
    "id": "KRC_r9Mfn23P",
    "outputId": "4ebe359e-cdf0-453f-d695-e1849dcb1b3a"
   },
   "outputs": [],
   "source": [
    "# Row vector\n",
    "x = torch.randn(1,3)\n",
    "print(\"Row vector\\n{}\\nwith size {}\".format(x, x.size()))\n",
    "\n",
    "# Column vector\n",
    "v = torch.randn(3,1)\n",
    "print(\"Column vector\\n{}\\nwith size {}\".format(v, v.size()))\n",
    "\n",
    "# Matrix\n",
    "A = torch.randn(3, 3)\n",
    "print(\"Matrix\\n{}\\nwith size {}\".format(A, A.size()))"
   ]
  },
  {
   "cell_type": "markdown",
   "metadata": {
    "id": "w5vFN4sRAYmD"
   },
   "source": [
    "A common operation is matrix-vector multiplication (and in general tensor-tensor multiplication). For example, the product $\\mathbf{A}\\mathbf{v} + \\mathbf{b}$ is as follows:"
   ]
  },
  {
   "cell_type": "code",
   "execution_count": null,
   "metadata": {
    "cellView": "code",
    "colab": {
     "base_uri": "https://localhost:8080/"
    },
    "executionInfo": {
     "elapsed": 814,
     "status": "ok",
     "timestamp": 1617619250975,
     "user": {
      "displayName": "성균관대학교홍만수",
      "photoUrl": "",
      "userId": "05963146355021129777"
     },
     "user_tz": -540
    },
    "id": "yMOTAXacn23T",
    "outputId": "acf3885d-9f09-43fc-ce0c-aa00ccde018e"
   },
   "outputs": [],
   "source": [
    "#@title\n",
    "u = torch.matmul(A, v)\n",
    "print(u, u.shape) # [3, 1]\n",
    "b = torch.randn(3, 1)\n",
    "y = u + b\n",
    "print(y)\n",
    "\n",
    "# or you can use torch.add()\n",
    "print(torch.add(u, b))"
   ]
  },
  {
   "cell_type": "markdown",
   "metadata": {
    "id": "zZrnd6gDAYmF"
   },
   "source": [
    "where we retrieve the expected result (a column vector of dimensions 3x1). We can of course compose operations:"
   ]
  },
  {
   "cell_type": "code",
   "execution_count": null,
   "metadata": {
    "colab": {
     "base_uri": "https://localhost:8080/"
    },
    "executionInfo": {
     "elapsed": 513,
     "status": "ok",
     "timestamp": 1617619261976,
     "user": {
      "displayName": "성균관대학교홍만수",
      "photoUrl": "",
      "userId": "05963146355021129777"
     },
     "user_tz": -540
    },
    "id": "Q2m87RNkn23V",
    "outputId": "6f3feaef-e2bd-49a9-d796-6a3005cef05c"
   },
   "outputs": [],
   "source": [
    "s = torch.matmul(x, torch.matmul(A, v))\n",
    "print(s.item()) "
   ]
  },
  {
   "cell_type": "markdown",
   "metadata": {
    "id": "n3dEQPnImEyJ"
   },
   "source": [
    "#### Matmul vs. Mul"
   ]
  },
  {
   "cell_type": "code",
   "execution_count": null,
   "metadata": {
    "colab": {
     "base_uri": "https://localhost:8080/"
    },
    "executionInfo": {
     "elapsed": 538,
     "status": "ok",
     "timestamp": 1617619274714,
     "user": {
      "displayName": "성균관대학교홍만수",
      "photoUrl": "",
      "userId": "05963146355021129777"
     },
     "user_tz": -540
    },
    "id": "GmHje6z2n23Y",
    "outputId": "d5b643f6-0f26-4408-d26d-29c3266e41cd"
   },
   "outputs": [],
   "source": [
    "m1 = torch.FloatTensor([[1, 2],\n",
    "                        [3, 4]])\n",
    "m2 = torch.FloatTensor([[1], [2]])\n",
    "print('Shape of Matrix 1: ', m1.shape) # 2 x 2\n",
    "print('Shape of Matrix 2: ', m2.shape) # 2 x 1\n",
    "print(m1.matmul(m2)) # 2 x 1\n",
    "\n",
    "m1 = torch.FloatTensor([[1, 2],\n",
    "                        [3, 4]])\n",
    "m2 = torch.FloatTensor([[1], [2]])\n",
    "print('Shape of Matrix 1: ', m1.shape) # 2 x 2\n",
    "print('Shape of Matrix 2: ', m2.shape) # 2 x 1\n",
    "print(m1 * m2) # 2 x 2 # asterisk\n",
    "print(m1.mul(m2))"
   ]
  },
  {
   "cell_type": "markdown",
   "metadata": {
    "id": "fDxw3yR3mlUM"
   },
   "source": [
    "#### others"
   ]
  },
  {
   "cell_type": "markdown",
   "metadata": {
    "id": "mZ37Sri6AYmI"
   },
   "source": [
    "There are many functions implemented for every tensor, and we encourage you to study the documentation. Some of the most common ones:"
   ]
  },
  {
   "cell_type": "code",
   "execution_count": null,
   "metadata": {
    "executionInfo": {
     "elapsed": 530,
     "status": "ok",
     "timestamp": 1617619425446,
     "user": {
      "displayName": "성균관대학교홍만수",
      "photoUrl": "",
      "userId": "05963146355021129777"
     },
     "user_tz": -540
    },
    "id": "Tfue6Ydxn23a"
   },
   "outputs": [],
   "source": [
    "# common tensor methods (they also have the counterpart in \n",
    "# the torch package, e.g. as torch.sum(t))\n",
    "t = torch.randn(2,3)\n",
    "t.sum(dim=0)                 \n",
    "t.t()                   # transpose\n",
    "t.numel()               # number of elements in tensor\n",
    "t.nonzero()             # indices of non-zero elements\n",
    "\n",
    "\n",
    "# operations in the package\n",
    "torch.arange(0, 10)     # tensor([0, 1, 2, 3, 4, 5, 6, 7, 8, 9])\n",
    "torch.eye(3, 3)         # creates a 3x3 matrix with 1s in the diagonal (identity in this case)\n",
    "t = torch.arange(0, 3)"
   ]
  },
  {
   "cell_type": "markdown",
   "metadata": {
    "id": "CAg-ZLqmC2Zx"
   },
   "source": [
    "### Reshaping (view)"
   ]
  },
  {
   "cell_type": "code",
   "execution_count": null,
   "metadata": {
    "executionInfo": {
     "elapsed": 511,
     "status": "ok",
     "timestamp": 1617619440897,
     "user": {
      "displayName": "성균관대학교홍만수",
      "photoUrl": "",
      "userId": "05963146355021129777"
     },
     "user_tz": -540
    },
    "id": "Af0q0DLQC9R5"
   },
   "outputs": [],
   "source": [
    "import torch\n",
    "import numpy as np\n",
    "\n",
    "t = np.arange(12).reshape(-1, 2, 3)"
   ]
  },
  {
   "cell_type": "code",
   "execution_count": null,
   "metadata": {
    "colab": {
     "base_uri": "https://localhost:8080/"
    },
    "executionInfo": {
     "elapsed": 498,
     "status": "ok",
     "timestamp": 1617619443539,
     "user": {
      "displayName": "성균관대학교홍만수",
      "photoUrl": "",
      "userId": "05963146355021129777"
     },
     "user_tz": -540
    },
    "id": "9b2NEde4Eieh",
    "outputId": "909ede47-1fe5-4bb7-ca13-b92e1e1db354"
   },
   "outputs": [],
   "source": [
    "t.shape"
   ]
  },
  {
   "cell_type": "code",
   "execution_count": null,
   "metadata": {
    "colab": {
     "base_uri": "https://localhost:8080/"
    },
    "executionInfo": {
     "elapsed": 399,
     "status": "ok",
     "timestamp": 1617619444582,
     "user": {
      "displayName": "성균관대학교홍만수",
      "photoUrl": "",
      "userId": "05963146355021129777"
     },
     "user_tz": -540
    },
    "id": "28560eoyGrOU",
    "outputId": "a181c17f-7d0e-43da-a087-9ecc1ca02a5a"
   },
   "outputs": [],
   "source": [
    "t"
   ]
  },
  {
   "cell_type": "code",
   "execution_count": null,
   "metadata": {
    "colab": {
     "base_uri": "https://localhost:8080/"
    },
    "executionInfo": {
     "elapsed": 520,
     "status": "ok",
     "timestamp": 1617619446563,
     "user": {
      "displayName": "성균관대학교홍만수",
      "photoUrl": "",
      "userId": "05963146355021129777"
     },
     "user_tz": -540
    },
    "id": "RduHorQCEjQp",
    "outputId": "0f9f43e4-3b0e-4d13-fe95-95bf5b82c883"
   },
   "outputs": [],
   "source": [
    "floatt = torch.FloatTensor(t)\n",
    "# torch.tensor(t)\n",
    "floatt.shape"
   ]
  },
  {
   "cell_type": "code",
   "execution_count": null,
   "metadata": {
    "colab": {
     "base_uri": "https://localhost:8080/"
    },
    "executionInfo": {
     "elapsed": 650,
     "status": "ok",
     "timestamp": 1617619450719,
     "user": {
      "displayName": "성균관대학교홍만수",
      "photoUrl": "",
      "userId": "05963146355021129777"
     },
     "user_tz": -540
    },
    "id": "jfdnq_tjG7TB",
    "outputId": "eb81e117-b8f8-423b-f34f-b9e20f4982b4"
   },
   "outputs": [],
   "source": [
    "floatt.view([-1, 3]).shape"
   ]
  },
  {
   "cell_type": "markdown",
   "metadata": {
    "id": "SHkClHStoPgE"
   },
   "source": [
    "flatten"
   ]
  },
  {
   "cell_type": "code",
   "execution_count": null,
   "metadata": {
    "colab": {
     "base_uri": "https://localhost:8080/"
    },
    "executionInfo": {
     "elapsed": 522,
     "status": "ok",
     "timestamp": 1617619482724,
     "user": {
      "displayName": "성균관대학교홍만수",
      "photoUrl": "",
      "userId": "05963146355021129777"
     },
     "user_tz": -540
    },
    "id": "RRhU0asaKMak",
    "outputId": "f17344e7-2fc3-4f95-8696-9fa78dfb7c24"
   },
   "outputs": [],
   "source": [
    "flattened = floatt.flatten()\n",
    "print(flattened)"
   ]
  },
  {
   "cell_type": "markdown",
   "metadata": {
    "id": "Wn4Gz7wNoQvW"
   },
   "source": [
    "something more"
   ]
  },
  {
   "cell_type": "code",
   "execution_count": null,
   "metadata": {
    "executionInfo": {
     "elapsed": 518,
     "status": "ok",
     "timestamp": 1617619485041,
     "user": {
      "displayName": "성균관대학교홍만수",
      "photoUrl": "",
      "userId": "05963146355021129777"
     },
     "user_tz": -540
    },
    "id": "mME03GaJZZGG"
   },
   "outputs": [],
   "source": [
    "t = torch.tensor(np.arange(6))"
   ]
  },
  {
   "cell_type": "code",
   "execution_count": null,
   "metadata": {
    "colab": {
     "base_uri": "https://localhost:8080/"
    },
    "executionInfo": {
     "elapsed": 501,
     "status": "ok",
     "timestamp": 1617619486233,
     "user": {
      "displayName": "성균관대학교홍만수",
      "photoUrl": "",
      "userId": "05963146355021129777"
     },
     "user_tz": -540
    },
    "id": "cgFHmNAAn23c",
    "outputId": "cb8c7ffe-bbf4-4367-d0d5-fd974083e520"
   },
   "outputs": [],
   "source": [
    "t = torch.randn(2,3)\n",
    "t.flatten()"
   ]
  },
  {
   "cell_type": "code",
   "execution_count": null,
   "metadata": {
    "colab": {
     "base_uri": "https://localhost:8080/"
    },
    "executionInfo": {
     "elapsed": 497,
     "status": "ok",
     "timestamp": 1617619826951,
     "user": {
      "displayName": "성균관대학교홍만수",
      "photoUrl": "",
      "userId": "05963146355021129777"
     },
     "user_tz": -540
    },
    "id": "zOXwwLv2J9fP",
    "outputId": "56b57076-97a7-4649-9c4f-7b179af3dfee"
   },
   "outputs": [],
   "source": [
    "# print(t.view(-1, 2))           # reorganizes the tensor to these dimensions\n",
    "\n",
    "# print(t.unsqueeze(1))          # inserts a dimension\n",
    "# print(t.unsqueeze(1).squeeze())             # removes size 1 dimensions\n",
    "\n",
    "print(t)\n",
    "\n",
    "# print(torch.cat((t, t)))       # tensor([0, 1, 2, 0, 1, 2])\n",
    "print(torch.stack((t, t)))     # tensor([[0, 1, 2],\n",
    "                               #         [0, 1, 2]])"
   ]
  },
  {
   "cell_type": "code",
   "execution_count": null,
   "metadata": {
    "id": "KnqNjRjnIUop"
   },
   "outputs": [],
   "source": []
  }
 ],
 "metadata": {
  "colab": {
   "collapsed_sections": [],
   "name": "SWE3032_week5_201007_solution_script.ipynb",
   "provenance": []
  },
  "kernelspec": {
   "display_name": "Python 3",
   "language": "python",
   "name": "python3"
  },
  "language_info": {
   "codemirror_mode": {
    "name": "ipython",
    "version": 3
   },
   "file_extension": ".py",
   "mimetype": "text/x-python",
   "name": "python",
   "nbconvert_exporter": "python",
   "pygments_lexer": "ipython3",
   "version": "3.7.10"
  }
 },
 "nbformat": 4,
 "nbformat_minor": 4
}
